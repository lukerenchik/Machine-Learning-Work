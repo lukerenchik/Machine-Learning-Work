{
 "cells": [
  {
   "cell_type": "code",
   "execution_count": 9,
   "id": "initial_id",
   "metadata": {
    "collapsed": true,
    "ExecuteTime": {
     "end_time": "2024-07-13T16:29:34.270570Z",
     "start_time": "2024-07-13T16:29:33.340148Z"
    }
   },
   "outputs": [],
   "source": [
    "from ucimlrepo import fetch_ucirepo \n",
    "  \n",
    "# fetch dataset \n",
    "student_academics_performance = fetch_ucirepo(id=467) \n",
    "  \n",
    "# data (as pandas dataframes) \n",
    "academicPerformanceFeatures = student_academics_performance.data.features \n",
    "academicPerformanceTargets = student_academics_performance.data.targets \n"
   ]
  },
  {
   "cell_type": "code",
   "outputs": [
    {
     "name": "stdout",
     "output_type": "stream",
     "text": [
      "{'uci_id': 467, 'name': 'Student Academics Performance', 'repository_url': 'https://archive.ics.uci.edu/dataset/467/student+academics+performance', 'data_url': 'https://archive.ics.uci.edu/static/public/467/data.csv', 'abstract': 'The dataset tried to find the end semester percentage prediction based on different social, economic and academic attributes. ', 'area': 'Computer Science', 'tasks': ['Classification'], 'characteristics': ['Multivariate'], 'num_instances': 300, 'num_features': 22, 'feature_types': [], 'demographics': [], 'target_col': None, 'index_col': None, 'has_missing_values': 'no', 'missing_values_symbol': None, 'year_of_dataset_creation': 2018, 'last_updated': 'Fri Mar 29 2024', 'dataset_doi': '10.24432/C50W30', 'creators': ['Sadiq Hussain'], 'intro_paper': {'title': 'Educational Data Mining and Analysis of Students’ Academic Performance Using WEKA', 'authors': 'Sadiq Hussain, N. A. Dahan, F. Ba-Alwi, Najoua Ribata', 'published_in': ' Indonesian Journal of Electrical Engineering and Computer Science', 'year': 2018, 'url': 'https://www.semanticscholar.org/paper/Educational-Data-Mining-and-Analysis-of-Students%E2%80%99-Hussain-Dahan/7cf8a7ad1fffb3b4ce3f5f0715f73e0f22e4758a', 'doi': None}, 'additional_info': {'summary': 'Student Academic Performance Dataset', 'purpose': None, 'funded_by': None, 'instances_represent': None, 'recommended_data_splits': None, 'sensitive_data': None, 'preprocessing_description': None, 'variable_info': '@ATTRIBUTE ge  {M,F}\\r\\n@ATTRIBUTE cst {G,ST,SC,OBC,MOBC}\\r\\n@ATTRIBUTE tnp {Best,Vg,Good,Pass,Fail}\\r\\n@ATTRIBUTE twp {Best,Vg,Good,Pass,Fail}\\r\\n@ATTRIBUTE iap {Best,Vg,Good,Pass,Fail}\\r\\n@ATTRIBUTE esp {Best,Vg,Good,Pass,Fail}\\r\\n@ATTRIBUTE arr {Y,N}\\r\\n@ATTRIBUTE ms  {Married,Unmarried}\\r\\n@ATTRIBUTE ls  {T,V}\\r\\n@ATTRIBUTE as  {Free,Paid}\\r\\n@ATTRIBUTE fmi {Vh,High,Am,Medium,Low}\\r\\n@ATTRIBUTE fs  {Large,Average,Small}\\r\\n@ATTRIBUTE fq  {Il,Um,10,12,Degree,Pg}\\r\\n@ATTRIBUTE mq  {Il,Um,10,12,Degree,Pg}\\r\\n@ATTRIBUTE fo  {Service,Business,Retired,Farmer,Others}\\r\\n@ATTRIBUTE mo  {Service,Business,Retired,Housewife,Others}\\r\\n@ATTRIBUTE nf  {Large,Average,Small}\\r\\n@ATTRIBUTE sh  {Good,Average,Poor}\\r\\n@ATTRIBUTE ss  {Govt,Private}\\r\\n@ATTRIBUTE me  {Eng,Asm,Hin,Ben}\\r\\n@ATTRIBUTE tt  {Large,Average,Small}\\r\\n@ATTRIBUTE atd {Good,Average,Poor}', 'citation': None}}\n"
     ]
    }
   ],
   "source": [
    "print(student_academics_performance.metadata) "
   ],
   "metadata": {
    "collapsed": false,
    "ExecuteTime": {
     "end_time": "2024-07-13T16:26:09.887663Z",
     "start_time": "2024-07-13T16:26:09.881269Z"
    }
   },
   "id": "8acd0ac034a4c9d4",
   "execution_count": 4
  },
  {
   "cell_type": "code",
   "outputs": [
    {
     "name": "stdout",
     "output_type": "stream",
     "text": [
      "   name     role         type demographic description units missing_values\n",
      "0    ge  Feature  Categorical        None        None  None             no\n",
      "1   cst  Feature  Categorical        None        None  None             no\n",
      "2   tnp  Feature  Categorical        None        None  None             no\n",
      "3   twp  Feature  Categorical        None        None  None             no\n",
      "4   iap  Feature  Categorical        None        None  None             no\n",
      "5   esp  Feature  Categorical        None        None  None             no\n",
      "6   arr  Feature  Categorical        None        None  None             no\n",
      "7    ms  Feature  Categorical        None        None  None             no\n",
      "8    ls  Feature  Categorical        None        None  None             no\n",
      "9    as  Feature  Categorical        None        None  None             no\n",
      "10  fmi  Feature  Categorical        None        None  None             no\n",
      "11   fs  Feature  Categorical        None        None  None             no\n",
      "12   fq  Feature  Categorical        None        None  None             no\n",
      "13   mq  Feature  Categorical        None        None  None             no\n",
      "14   fo  Feature  Categorical        None        None  None             no\n",
      "15   mo  Feature  Categorical        None        None  None             no\n",
      "16   nf  Feature  Categorical        None        None  None             no\n",
      "17   sh  Feature  Categorical        None        None  None             no\n",
      "18   ss  Feature  Categorical        None        None  None             no\n",
      "19   me  Feature  Categorical        None        None  None             no\n",
      "20   tt  Feature  Categorical        None        None  None             no\n",
      "21  atd  Feature  Categorical        None        None  None             no\n"
     ]
    }
   ],
   "source": [
    "print(student_academics_performance.variables) "
   ],
   "metadata": {
    "collapsed": false,
    "ExecuteTime": {
     "end_time": "2024-07-13T16:26:45.726620Z",
     "start_time": "2024-07-13T16:26:45.715298Z"
    }
   },
   "id": "4f11384e211a0e89",
   "execution_count": 5
  },
  {
   "cell_type": "code",
   "outputs": [
    {
     "name": "stdout",
     "output_type": "stream",
     "text": [
      "    ge   cst   tnp   twp   iap   esp arr         ms ls    as  ...  fq  mq  \\\n",
      "0    F     G  Good  Good    Vg  Good   Y  Unmarried  V  Paid  ...  Um  10   \n",
      "1    M   OBC    Vg    Vg    Vg    Vg   N  Unmarried  V  Paid  ...  Um  Il   \n",
      "2    F   OBC  Good  Good    Vg  Good   N  Unmarried  V  Paid  ...  12  10   \n",
      "3    M  MOBC  Pass  Good    Vg  Good   N  Unmarried  V  Paid  ...  12  Um   \n",
      "4    M     G  Good  Good    Vg    Vg   N  Unmarried  V  Paid  ...  10  12   \n",
      "..  ..   ...   ...   ...   ...   ...  ..        ... ..   ...  ...  ..  ..   \n",
      "126  M     G  Pass  Good  Good  Pass   Y  Unmarried  T  Free  ...  Um  Il   \n",
      "127  M  MOBC    Vg    Vg  Good  Good   N  Unmarried  V  Free  ...  10  Um   \n",
      "128  F   OBC  Good  Good    Vg  Good   N  Unmarried  V  Free  ...  Il  Il   \n",
      "129  M    ST  Pass  Pass  Good  Pass   Y  Unmarried  V  Free  ...  Um  Um   \n",
      "130  M     G  Pass  Good  Good  Pass   Y  Unmarried  V  Free  ...  Um  Um   \n",
      "\n",
      "           fo         mo       nf       sh       ss   me       tt      atd  \n",
      "0      Farmer  Housewife    Large     Poor     Govt  Asm    Small     Good  \n",
      "1     Service    Service    Small     Poor     Govt  Asm  Average  Average  \n",
      "2     Service  Housewife  Average  Average     Govt  Asm    Large     Good  \n",
      "3    Business   Business    Large     Poor     Govt  Asm  Average  Average  \n",
      "4     Service  Housewife    Large     Poor  Private  Asm    Small     Good  \n",
      "..        ...        ...      ...      ...      ...  ...      ...      ...  \n",
      "126   Service  Housewife    Small  Average     Govt  Asm    Small     Poor  \n",
      "127    Farmer  Housewife  Average     Poor     Govt  Asm    Small  Average  \n",
      "128    Farmer  Housewife    Small  Average     Govt  Asm    Large     Good  \n",
      "129   Service  Housewife  Average  Average     Govt  Asm    Large  Average  \n",
      "130  Business  Housewife  Average  Average     Govt  Asm    Small  Average  \n",
      "\n",
      "[131 rows x 22 columns]\n"
     ]
    }
   ],
   "source": [
    "print(academicPerformanceFeatures)"
   ],
   "metadata": {
    "collapsed": false,
    "ExecuteTime": {
     "end_time": "2024-07-13T16:29:47.649919Z",
     "start_time": "2024-07-13T16:29:47.636415Z"
    }
   },
   "id": "b269352f40d3668f",
   "execution_count": 11
  },
  {
   "cell_type": "code",
   "outputs": [
    {
     "name": "stdout",
     "output_type": "stream",
     "text": [
      "None\n"
     ]
    }
   ],
   "source": [
    "print(academicPerformanceTargets)"
   ],
   "metadata": {
    "collapsed": false,
    "ExecuteTime": {
     "end_time": "2024-07-13T16:29:58.401137Z",
     "start_time": "2024-07-13T16:29:58.396214Z"
    }
   },
   "id": "e1e108d7ddd40ba2",
   "execution_count": 12
  },
  {
   "cell_type": "code",
   "outputs": [],
   "source": [
    "from ucimlrepo import fetch_ucirepo \n",
    "  \n",
    "# fetch dataset \n",
    "chess_king_rook_vs_king = fetch_ucirepo(id=23) \n",
    "  \n",
    "# data (as pandas dataframes) \n",
    "chessFeatures = chess_king_rook_vs_king.data.features \n",
    "chessTargets = chess_king_rook_vs_king.data.targets \n",
    "  "
   ],
   "metadata": {
    "collapsed": false,
    "ExecuteTime": {
     "end_time": "2024-07-13T16:30:53.582319Z",
     "start_time": "2024-07-13T16:30:52.404946Z"
    }
   },
   "id": "ed9b8b3e8b804cb5",
   "execution_count": 14
  },
  {
   "cell_type": "code",
   "outputs": [
    {
     "name": "stdout",
     "output_type": "stream",
     "text": [
      "{'uci_id': 23, 'name': 'Chess (King-Rook vs. King)', 'repository_url': 'https://archive.ics.uci.edu/dataset/23/chess+king+rook+vs+king', 'data_url': 'https://archive.ics.uci.edu/static/public/23/data.csv', 'abstract': 'Chess Endgame Database for White King and Rook against Black King (KRK).', 'area': 'Games', 'tasks': ['Classification'], 'characteristics': ['Multivariate'], 'num_instances': 28056, 'num_features': 6, 'feature_types': ['Categorical', 'Integer'], 'demographics': [], 'target_col': ['white-depth-of-win'], 'index_col': None, 'has_missing_values': 'no', 'missing_values_symbol': None, 'year_of_dataset_creation': 1994, 'last_updated': 'Sat Mar 09 2024', 'dataset_doi': '10.24432/C57W2S', 'creators': ['Michael Bain', 'Arthur Hoff'], 'intro_paper': None, 'additional_info': {'summary': \"An Inductive Logic Programming (ILP) or relational learning framework is assumed (Muggleton, 1992). The learning system is provided with examples of chess positions described only by the coordinates of the pieces on the board. Background knowledge in the form of row and column differences is also supplied. The relations necessary to form a correct and concise classifier for the target concept must be discovered by the learning system (the examples already provide a complete extensional definition). The task is closely related to Quinlan's (1983) application of ID3 to classify White King and Rook against Black King and Knight (KRKN) positions as lost 2-ply or lost 3-ply. The framework is similar in that the example positions supply only low-grade data. An important difference is that additional background predicates of the kind supplied in the KRKN study via hand-crafted attributes are not provided for this KRK domain.\\r\\n\\r\\nChess endgames are complex domains which are enumerable. Endgame databases are tables of stored game-theoretic values for the enumerated elements (legal positions) of the domain. The game-theoretic values stored denote whether or not positions are won for either side, or include also the depth of win (number of moves) assuming minimax-optimal play. From the point of view of experiments on computer induction such databases provide not only a source of examples but also an oracle (Roycroft, 1986) for testing induced rules. However a chess endgame database differs from, say, a relational database containing details of parts and suppliers in the following important respect. The combinatorics of computing the required game-theoretic values for individual position entries independently would be prohibitive. Therefore all the database entries are generated in a single iterative process using the ``standard backup'' algorithm (Thompson, 1986).\\r\\n\\r\\nA KRK database was described by Clarke (1977). The current database was described and used for machine learning experiments in Bain (1992; 1994). It should be noted that our database is not guaranteed correct, but the class distribution is the same as Clarke's database. In (Bain 1992; 1994) the task was classification of positions in the database as won for white in a fixed number of moves, assuming optimal play by both sides. The problem was structured into separate sub-problems by depth-of-win ordered draw, zero, one, ..., sixteen. When learning depth d all examples at depths > d are used as negatives. Quinlan (1994) applied Foil to learn a complete and correct solution for this task.\\r\\n\\r\\nThe typical complexity of induced classifiers in this domain suggest that the task is demanding when background knowledge is restricted.\", 'purpose': None, 'funded_by': None, 'instances_represent': None, 'recommended_data_splits': None, 'sensitive_data': None, 'preprocessing_description': None, 'variable_info': '   1. White King file (column)\\r\\n   2. White King rank (row)\\r\\n   3. White Rook file\\r\\n   4. White Rook rank\\r\\n   5. Black King file\\r\\n   6. Black King rank\\r\\n   7. optimal depth-of-win for White in 0 to 16 moves, otherwise drawn {draw, zero, one, two, ..., sixteen}.', 'citation': None}}\n"
     ]
    }
   ],
   "source": [
    "# metadata \n",
    "print(chess_king_rook_vs_king.metadata) "
   ],
   "metadata": {
    "collapsed": false,
    "ExecuteTime": {
     "end_time": "2024-07-13T16:30:55.656619Z",
     "start_time": "2024-07-13T16:30:55.651103Z"
    }
   },
   "id": "7fcfa0775a6baf68",
   "execution_count": 15
  },
  {
   "cell_type": "code",
   "outputs": [
    {
     "name": "stdout",
     "output_type": "stream",
     "text": [
      "                 name     role         type demographic description units  \\\n",
      "0     white-king-file  Feature  Categorical        None        None  None   \n",
      "1     white-king-rank  Feature      Integer        None        None  None   \n",
      "2     white-rook-file  Feature  Categorical        None        None  None   \n",
      "3     white-rook-rank  Feature      Integer        None        None  None   \n",
      "4     black-king-file  Feature  Categorical        None        None  None   \n",
      "5     black-king-rank  Feature      Integer        None        None  None   \n",
      "6  white-depth-of-win   Target  Categorical        None        None  None   \n",
      "\n",
      "  missing_values  \n",
      "0             no  \n",
      "1             no  \n",
      "2             no  \n",
      "3             no  \n",
      "4             no  \n",
      "5             no  \n",
      "6             no  \n"
     ]
    }
   ],
   "source": [
    "# variable information \n",
    "print(chess_king_rook_vs_king.variables) "
   ],
   "metadata": {
    "collapsed": false,
    "ExecuteTime": {
     "end_time": "2024-07-13T16:32:53.165241Z",
     "start_time": "2024-07-13T16:32:53.157394Z"
    }
   },
   "id": "13fcde6275106999",
   "execution_count": 16
  },
  {
   "cell_type": "code",
   "outputs": [
    {
     "name": "stdout",
     "output_type": "stream",
     "text": [
      "      white-king-file  white-king-rank white-rook-file  white-rook-rank  \\\n",
      "0                   a                1               b                3   \n",
      "1                   a                1               c                1   \n",
      "2                   a                1               c                1   \n",
      "3                   a                1               c                1   \n",
      "4                   a                1               c                2   \n",
      "...               ...              ...             ...              ...   \n",
      "28051               b                1               g                7   \n",
      "28052               b                1               g                7   \n",
      "28053               b                1               g                7   \n",
      "28054               b                1               g                7   \n",
      "28055               b                1               g                7   \n",
      "\n",
      "      black-king-file  black-king-rank  \n",
      "0                   c                2  \n",
      "1                   c                2  \n",
      "2                   d                1  \n",
      "3                   d                2  \n",
      "4                   c                1  \n",
      "...               ...              ...  \n",
      "28051               e                5  \n",
      "28052               e                6  \n",
      "28053               e                7  \n",
      "28054               f                5  \n",
      "28055               g                5  \n",
      "\n",
      "[28056 rows x 6 columns]\n"
     ]
    }
   ],
   "source": [
    "print(chessFeatures)"
   ],
   "metadata": {
    "collapsed": false,
    "ExecuteTime": {
     "end_time": "2024-07-13T16:33:08.811996Z",
     "start_time": "2024-07-13T16:33:08.802644Z"
    }
   },
   "id": "5277d4e283fbf466",
   "execution_count": 17
  },
  {
   "cell_type": "code",
   "outputs": [
    {
     "name": "stdout",
     "output_type": "stream",
     "text": [
      "      white-depth-of-win\n",
      "0                   draw\n",
      "1                   draw\n",
      "2                   draw\n",
      "3                   draw\n",
      "4                   draw\n",
      "...                  ...\n",
      "28051            sixteen\n",
      "28052            sixteen\n",
      "28053            sixteen\n",
      "28054            sixteen\n",
      "28055            sixteen\n",
      "\n",
      "[28056 rows x 1 columns]\n"
     ]
    }
   ],
   "source": [
    "print(chessTargets)"
   ],
   "metadata": {
    "collapsed": false,
    "ExecuteTime": {
     "end_time": "2024-07-13T16:33:17.580336Z",
     "start_time": "2024-07-13T16:33:17.572752Z"
    }
   },
   "id": "69620964497cb7e1",
   "execution_count": 18
  },
  {
   "cell_type": "code",
   "outputs": [],
   "source": [
    "import pandas as pd"
   ],
   "metadata": {
    "collapsed": false,
    "ExecuteTime": {
     "end_time": "2024-07-13T16:47:30.002943Z",
     "start_time": "2024-07-13T16:47:29.542125Z"
    }
   },
   "id": "bc5afa1c69e607bf",
   "execution_count": 1
  },
  {
   "cell_type": "code",
   "outputs": [],
   "source": [
    "# Define the file path\n",
    "file_path = '/home/luke/Documents/Reinforcement-Learning-An-Introduction/Dive Into Deep Learning/Datasets/HIGGS.csv.gz'"
   ],
   "metadata": {
    "collapsed": false,
    "ExecuteTime": {
     "end_time": "2024-07-13T16:50:54.825402Z",
     "start_time": "2024-07-13T16:50:54.821879Z"
    }
   },
   "id": "ed936e1aa63c06e2",
   "execution_count": 6
  },
  {
   "cell_type": "code",
   "outputs": [],
   "source": [
    "# Read the gzip-compressed CSV file into a pandas DataFrame\n",
    "df = pd.read_csv(file_path, compression='gzip')"
   ],
   "metadata": {
    "collapsed": false,
    "ExecuteTime": {
     "end_time": "2024-07-13T16:52:41.323436Z",
     "start_time": "2024-07-13T16:50:55.946692Z"
    }
   },
   "id": "56a3186b46186e4b",
   "execution_count": 7
  },
  {
   "cell_type": "code",
   "outputs": [
    {
     "name": "stdout",
     "output_type": "stream",
     "text": [
      "   1.000000000000000000e+00  8.692932128906250000e-01  \\\n",
      "0                       1.0                  0.907542   \n",
      "1                       1.0                  0.798835   \n",
      "2                       0.0                  1.344385   \n",
      "3                       1.0                  1.105009   \n",
      "4                       0.0                  1.595839   \n",
      "\n",
      "   -6.350818276405334473e-01  2.256902605295181274e-01  \\\n",
      "0                   0.329147                  0.359412   \n",
      "1                   1.470639                 -1.635975   \n",
      "2                  -0.876626                  0.935913   \n",
      "3                   0.321356                  1.522401   \n",
      "4                  -0.607811                  0.007075   \n",
      "\n",
      "   3.274700641632080078e-01  -6.899932026863098145e-01  \\\n",
      "0                  1.497970                  -0.313010   \n",
      "1                  0.453773                   0.425629   \n",
      "2                  1.992050                   0.882454   \n",
      "3                  0.882808                  -1.205349   \n",
      "4                  1.818450                  -0.111906   \n",
      "\n",
      "   7.542022466659545898e-01  -2.485731393098831177e-01  \\\n",
      "0                  1.095531                  -0.557525   \n",
      "1                  1.104875                   1.282322   \n",
      "2                  1.786066                  -1.646778   \n",
      "3                  0.681466                  -1.070464   \n",
      "4                  0.847550                  -0.566437   \n",
      "\n",
      "   -1.092063903808593750e+00  0.000000000000000000e+00  ...  \\\n",
      "0                  -1.588230                  2.173076  ...   \n",
      "1                   1.381664                  0.000000  ...   \n",
      "2                  -0.942383                  0.000000  ...   \n",
      "3                  -0.921871                  0.000000  ...   \n",
      "4                   1.581239                  2.173076  ...   \n",
      "\n",
      "   -1.045456994324922562e-02  -4.576716944575309753e-02  \\\n",
      "0                  -1.138930                  -0.000819   \n",
      "1                   1.128848                   0.900461   \n",
      "2                  -0.678379                  -1.360356   \n",
      "3                  -0.373566                   0.113041   \n",
      "4                  -0.654227                  -1.274345   \n",
      "\n",
      "   3.101961374282836914e+00  1.353760004043579102e+00  \\\n",
      "0                  0.000000                  0.302220   \n",
      "1                  0.000000                  0.909753   \n",
      "2                  0.000000                  0.946652   \n",
      "3                  0.000000                  0.755856   \n",
      "4                  3.101961                  0.823761   \n",
      "\n",
      "   9.795631170272827148e-01  9.780761599540710449e-01  \\\n",
      "0                  0.833048                  0.985700   \n",
      "1                  1.108330                  0.985692   \n",
      "2                  1.028704                  0.998656   \n",
      "3                  1.361057                  0.986610   \n",
      "4                  0.938191                  0.971758   \n",
      "\n",
      "   9.200048446655273438e-01  7.216574549674987793e-01  \\\n",
      "0                  0.978098                  0.779732   \n",
      "1                  0.951331                  0.803252   \n",
      "2                  0.728281                  0.869200   \n",
      "3                  0.838085                  1.133295   \n",
      "4                  0.789176                  0.430553   \n",
      "\n",
      "   9.887509346008300781e-01  8.766783475875854492e-01  \n",
      "0                  0.992356                  0.798343  \n",
      "1                  0.865924                  0.780118  \n",
      "2                  1.026736                  0.957904  \n",
      "3                  0.872245                  0.808487  \n",
      "4                  0.961357                  0.957818  \n",
      "\n",
      "[5 rows x 29 columns]\n"
     ]
    }
   ],
   "source": [
    "# Display the first few rows of the dataset\n",
    "print(df.head())\n"
   ],
   "metadata": {
    "collapsed": false,
    "ExecuteTime": {
     "end_time": "2024-07-13T17:05:22.247095Z",
     "start_time": "2024-07-13T17:05:22.221066Z"
    }
   },
   "id": "75bd7505cebba949",
   "execution_count": 8
  },
  {
   "cell_type": "code",
   "outputs": [],
   "source": [
    "higgsFeatures, higgsTargets = df.iloc[:, :28], df.iloc[:, -1]"
   ],
   "metadata": {
    "collapsed": false,
    "ExecuteTime": {
     "end_time": "2024-07-13T17:08:34.371446Z",
     "start_time": "2024-07-13T17:08:34.365734Z"
    }
   },
   "id": "f163e0f0d193ad0a",
   "execution_count": 9
  },
  {
   "cell_type": "code",
   "outputs": [
    {
     "name": "stdout",
     "output_type": "stream",
     "text": [
      "          1.000000000000000000e+00  8.692932128906250000e-01  \\\n",
      "0                              1.0                  0.907542   \n",
      "1                              1.0                  0.798835   \n",
      "2                              0.0                  1.344385   \n",
      "3                              1.0                  1.105009   \n",
      "4                              0.0                  1.595839   \n",
      "...                            ...                       ...   \n",
      "10999994                       1.0                  1.159912   \n",
      "10999995                       1.0                  0.618388   \n",
      "10999996                       1.0                  0.700559   \n",
      "10999997                       0.0                  1.178030   \n",
      "10999998                       0.0                  0.464477   \n",
      "\n",
      "          -6.350818276405334473e-01  2.256902605295181274e-01  \\\n",
      "0                          0.329147                  0.359412   \n",
      "1                          1.470639                 -1.635975   \n",
      "2                         -0.876626                  0.935913   \n",
      "3                          0.321356                  1.522401   \n",
      "4                         -0.607811                  0.007075   \n",
      "...                             ...                       ...   \n",
      "10999994                   1.013847                  0.108615   \n",
      "10999995                  -1.012982                  1.110139   \n",
      "10999996                   0.774251                  1.520182   \n",
      "10999997                   0.117796                 -1.276980   \n",
      "10999998                  -0.337047                  0.229019   \n",
      "\n",
      "          3.274700641632080078e-01  -6.899932026863098145e-01  \\\n",
      "0                         1.497970                  -0.313010   \n",
      "1                         0.453773                   0.425629   \n",
      "2                         1.992050                   0.882454   \n",
      "3                         0.882808                  -1.205349   \n",
      "4                         1.818450                  -0.111906   \n",
      "...                            ...                        ...   \n",
      "10999994                  1.495524                  -0.537545   \n",
      "10999995                  0.941023                  -0.379199   \n",
      "10999996                  0.847112                   0.211230   \n",
      "10999997                  1.864457                  -0.584370   \n",
      "10999998                  0.954596                  -0.868466   \n",
      "\n",
      "          7.542022466659545898e-01  -2.485731393098831177e-01  \\\n",
      "0                         1.095531                  -0.557525   \n",
      "1                         1.104875                   1.282322   \n",
      "2                         1.786066                  -1.646778   \n",
      "3                         0.681466                  -1.070464   \n",
      "4                         0.847550                  -0.566437   \n",
      "...                            ...                        ...   \n",
      "10999994                  2.342396                  -0.839740   \n",
      "10999995                  1.004656                   0.348535   \n",
      "10999996                  1.095531                   0.052457   \n",
      "10999997                  0.998519                  -1.264549   \n",
      "10999998                  0.430004                  -0.271348   \n",
      "\n",
      "          -1.092063903808593750e+00  0.000000000000000000e+00  ...  \\\n",
      "0                         -1.588230                  2.173076  ...   \n",
      "1                          1.381664                  0.000000  ...   \n",
      "2                         -0.942383                  0.000000  ...   \n",
      "3                         -0.921871                  0.000000  ...   \n",
      "4                          1.581239                  2.173076  ...   \n",
      "...                             ...                       ...  ...   \n",
      "10999994                   1.320683                  0.000000  ...   \n",
      "10999995                  -1.678593                  2.173076  ...   \n",
      "10999996                   0.024553                  2.173076  ...   \n",
      "10999997                   1.276333                  0.000000  ...   \n",
      "10999998                  -1.252278                  2.173076  ...   \n",
      "\n",
      "          6.579295396804809570e-01  -1.045456994324922562e-02  \\\n",
      "0                         0.398701                  -1.138930   \n",
      "1                         1.256955                   1.128848   \n",
      "2                         0.745313                  -0.678379   \n",
      "3                         0.479999                  -0.373566   \n",
      "4                         0.651114                  -0.654227   \n",
      "...                            ...                        ...   \n",
      "10999994                  1.177604                  -0.097068   \n",
      "10999995                  1.427826                  -0.216995   \n",
      "10999996                  0.419634                   1.585235   \n",
      "10999997                  0.845596                   1.399515   \n",
      "10999998                  0.675698                  -1.652782   \n",
      "\n",
      "          -4.576716944575309753e-02  3.101961374282836914e+00  \\\n",
      "0                         -0.000819                  0.000000   \n",
      "1                          0.900461                  0.000000   \n",
      "2                         -1.360356                  0.000000   \n",
      "3                          0.113041                  0.000000   \n",
      "4                         -1.274345                  3.101961   \n",
      "...                             ...                       ...   \n",
      "10999994                   1.190680                  3.101961   \n",
      "10999995                   1.049177                  3.101961   \n",
      "10999996                   1.713962                  0.000000   \n",
      "10999997                  -1.313189                  0.000000   \n",
      "10999998                  -0.586254                  0.000000   \n",
      "\n",
      "          1.353760004043579102e+00  9.795631170272827148e-01  \\\n",
      "0                         0.302220                  0.833048   \n",
      "1                         0.909753                  1.108330   \n",
      "2                         0.946652                  1.028704   \n",
      "3                         0.755856                  1.361057   \n",
      "4                         0.823761                  0.938191   \n",
      "...                            ...                       ...   \n",
      "10999994                  0.822136                  0.766772   \n",
      "10999995                  0.826829                  0.989809   \n",
      "10999996                  0.337374                  0.845208   \n",
      "10999997                  0.838842                  0.882890   \n",
      "10999998                  0.752535                  0.740727   \n",
      "\n",
      "          9.780761599540710449e-01  9.200048446655273438e-01  \\\n",
      "0                         0.985700                  0.978098   \n",
      "1                         0.985692                  0.951331   \n",
      "2                         0.998656                  0.728281   \n",
      "3                         0.986610                  0.838085   \n",
      "4                         0.971758                  0.789176   \n",
      "...                            ...                       ...   \n",
      "10999994                  1.002191                  1.061233   \n",
      "10999995                  1.029104                  1.199679   \n",
      "10999996                  0.987610                  0.883422   \n",
      "10999997                  1.201380                  0.939216   \n",
      "10999998                  0.986917                  0.663952   \n",
      "\n",
      "          7.216574549674987793e-01  9.887509346008300781e-01  \n",
      "0                         0.779732                  0.992356  \n",
      "1                         0.803252                  0.865924  \n",
      "2                         0.869200                  1.026736  \n",
      "3                         1.133295                  0.872245  \n",
      "4                         0.430553                  0.961357  \n",
      "...                            ...                       ...  \n",
      "10999994                  0.837004                  0.860472  \n",
      "10999995                  0.891481                  0.938490  \n",
      "10999996                  1.888438                  1.153766  \n",
      "10999997                  0.339705                  0.759070  \n",
      "10999998                  0.576084                  0.541427  \n",
      "\n",
      "[10999999 rows x 28 columns]\n"
     ]
    }
   ],
   "source": [
    "print(higgsFeatures)"
   ],
   "metadata": {
    "collapsed": false,
    "ExecuteTime": {
     "end_time": "2024-07-13T17:08:36.194965Z",
     "start_time": "2024-07-13T17:08:36.006220Z"
    }
   },
   "id": "a1541dab07446c58",
   "execution_count": 10
  },
  {
   "cell_type": "code",
   "outputs": [
    {
     "name": "stdout",
     "output_type": "stream",
     "text": [
      "0           0.798343\n",
      "1           0.780118\n",
      "2           0.957904\n",
      "3           0.808487\n",
      "4           0.957818\n",
      "              ...   \n",
      "10999994    0.772484\n",
      "10999995    0.865269\n",
      "10999996    0.931279\n",
      "10999997    0.719119\n",
      "10999998    0.517420\n",
      "Name: 8.766783475875854492e-01, Length: 10999999, dtype: float64\n"
     ]
    }
   ],
   "source": [
    "print(higgsTargets)"
   ],
   "metadata": {
    "collapsed": false,
    "ExecuteTime": {
     "end_time": "2024-07-13T17:08:40.929030Z",
     "start_time": "2024-07-13T17:08:40.920115Z"
    }
   },
   "id": "18ebb3b90a9eeeac",
   "execution_count": 11
  },
  {
   "cell_type": "code",
   "outputs": [],
   "source": [
    "import torch"
   ],
   "metadata": {
    "collapsed": false,
    "ExecuteTime": {
     "end_time": "2024-07-13T17:14:09.788161Z",
     "start_time": "2024-07-13T17:14:06.798499Z"
    }
   },
   "id": "6137873f168cc97",
   "execution_count": 12
  },
  {
   "cell_type": "code",
   "outputs": [],
   "source": [
    "higgsFeaturesTensor = torch.tensor(higgsFeatures.to_numpy(), dtype=float)\n",
    "higgsTargetsTensor = torch.tensor(higgsTargets.to_numpy(), dtype=float)"
   ],
   "metadata": {
    "collapsed": false,
    "ExecuteTime": {
     "end_time": "2024-07-13T17:15:54.593929Z",
     "start_time": "2024-07-13T17:15:54.054466Z"
    }
   },
   "id": "41c9b5167155b725",
   "execution_count": 13
  },
  {
   "cell_type": "code",
   "outputs": [
    {
     "data": {
      "text/plain": "tensor([[ 1.0000,  0.9075,  0.3291,  ...,  0.9781,  0.7797,  0.9924],\n        [ 1.0000,  0.7988,  1.4706,  ...,  0.9513,  0.8033,  0.8659],\n        [ 0.0000,  1.3444, -0.8766,  ...,  0.7283,  0.8692,  1.0267],\n        ...,\n        [ 1.0000,  0.7006,  0.7743,  ...,  0.8834,  1.8884,  1.1538],\n        [ 0.0000,  1.1780,  0.1178,  ...,  0.9392,  0.3397,  0.7591],\n        [ 0.0000,  0.4645, -0.3370,  ...,  0.6640,  0.5761,  0.5414]],\n       dtype=torch.float64)"
     },
     "execution_count": 14,
     "metadata": {},
     "output_type": "execute_result"
    }
   ],
   "source": [
    "higgsFeaturesTensor"
   ],
   "metadata": {
    "collapsed": false,
    "ExecuteTime": {
     "end_time": "2024-07-13T17:16:04.551649Z",
     "start_time": "2024-07-13T17:16:04.533336Z"
    }
   },
   "id": "f7769be061926e85",
   "execution_count": 14
  },
  {
   "cell_type": "code",
   "outputs": [
    {
     "data": {
      "text/plain": "tensor([0.7983, 0.7801, 0.9579,  ..., 0.9313, 0.7191, 0.5174],\n       dtype=torch.float64)"
     },
     "execution_count": 15,
     "metadata": {},
     "output_type": "execute_result"
    }
   ],
   "source": [
    "higgsTargetsTensor"
   ],
   "metadata": {
    "collapsed": false,
    "ExecuteTime": {
     "end_time": "2024-07-13T17:16:15.720953Z",
     "start_time": "2024-07-13T17:16:15.712771Z"
    }
   },
   "id": "9b205479ee6cb12d",
   "execution_count": 15
  }
 ],
 "metadata": {
  "kernelspec": {
   "display_name": "Python 3",
   "language": "python",
   "name": "python3"
  },
  "language_info": {
   "codemirror_mode": {
    "name": "ipython",
    "version": 2
   },
   "file_extension": ".py",
   "mimetype": "text/x-python",
   "name": "python",
   "nbconvert_exporter": "python",
   "pygments_lexer": "ipython2",
   "version": "2.7.6"
  }
 },
 "nbformat": 4,
 "nbformat_minor": 5
}
