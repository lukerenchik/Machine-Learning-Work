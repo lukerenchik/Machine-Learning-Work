{
 "cells": [
  {
   "cell_type": "code",
   "execution_count": 4,
   "id": "initial_id",
   "metadata": {
    "collapsed": true,
    "ExecuteTime": {
     "end_time": "2024-07-13T19:58:33.643413Z",
     "start_time": "2024-07-13T19:58:32.515941Z"
    }
   },
   "outputs": [],
   "source": [
    "import torch"
   ]
  },
  {
   "cell_type": "code",
   "outputs": [],
   "source": [
    "tensorX = torch.randn(2, 3, 5, 2)\n",
    "tensorScaler = torch.randn(1)"
   ],
   "metadata": {
    "collapsed": false,
    "ExecuteTime": {
     "end_time": "2024-07-13T20:00:04.081226Z",
     "start_time": "2024-07-13T20:00:04.075835Z"
    }
   },
   "id": "7a0af7794f5b20ad",
   "execution_count": 10
  },
  {
   "cell_type": "code",
   "outputs": [
    {
     "data": {
      "text/plain": "torch.Size([2, 3, 5, 2])"
     },
     "execution_count": 9,
     "metadata": {},
     "output_type": "execute_result"
    }
   ],
   "source": [
    "tensorX.size()"
   ],
   "metadata": {
    "collapsed": false,
    "ExecuteTime": {
     "end_time": "2024-07-13T19:59:12.797080Z",
     "start_time": "2024-07-13T19:59:12.787528Z"
    }
   },
   "id": "7b66a70f824cc8c2",
   "execution_count": 9
  },
  {
   "cell_type": "code",
   "outputs": [],
   "source": [
    "scaledX = tensorX * tensorScaler"
   ],
   "metadata": {
    "collapsed": false,
    "ExecuteTime": {
     "end_time": "2024-07-13T20:00:26.998055Z",
     "start_time": "2024-07-13T20:00:26.991984Z"
    }
   },
   "id": "a497fdcaf8111a7c",
   "execution_count": 11
  },
  {
   "cell_type": "code",
   "outputs": [
    {
     "data": {
      "text/plain": "tensor([[[[-5.7449e-02,  1.1273e-01],\n          [-5.0339e-01, -5.0666e-01],\n          [-1.1839e+00, -6.1323e-01],\n          [-1.1019e+00, -9.3194e-01],\n          [ 8.0318e-01,  9.5669e-04]],\n\n         [[ 5.2625e-01,  1.2777e+00],\n          [ 1.4643e-01,  1.9653e-02],\n          [-2.4861e-01,  8.9389e-01],\n          [ 6.3003e-02,  2.8005e-01],\n          [-7.5073e-01, -2.1118e-01]],\n\n         [[-4.0801e-01, -2.3930e-01],\n          [ 6.9129e-02, -2.8407e-01],\n          [-2.0881e-01,  1.5615e+00],\n          [ 7.6224e-02, -9.0168e-01],\n          [-8.0034e-01,  3.3752e-01]]],\n\n\n        [[[ 7.8485e-01, -6.2320e-01],\n          [ 1.0279e+00, -5.0961e-02],\n          [ 1.5569e+00, -2.5778e-01],\n          [-7.2965e-01,  1.9825e-01],\n          [ 1.3584e-01,  1.8260e+00]],\n\n         [[ 9.9079e-01,  3.4321e-01],\n          [ 1.1563e-01, -6.0578e-02],\n          [-1.0557e+00, -7.5676e-01],\n          [-8.9520e-01, -3.0323e-01],\n          [-3.9833e-01,  1.1552e-01]],\n\n         [[ 1.9142e-01,  6.6616e-01],\n          [ 1.1142e-01, -4.8894e-01],\n          [-7.9824e-02,  1.3079e-01],\n          [-7.3813e-02,  2.4665e-01],\n          [ 5.5730e-01,  3.7348e-01]]]])"
     },
     "execution_count": 12,
     "metadata": {},
     "output_type": "execute_result"
    }
   ],
   "source": [
    "scaledX"
   ],
   "metadata": {
    "collapsed": false,
    "ExecuteTime": {
     "end_time": "2024-07-13T20:00:28.658466Z",
     "start_time": "2024-07-13T20:00:28.646986Z"
    }
   },
   "id": "4b16b382ff4a15a8",
   "execution_count": 12
  },
  {
   "cell_type": "code",
   "outputs": [
    {
     "data": {
      "text/plain": "tensor([-0.6003])"
     },
     "execution_count": 13,
     "metadata": {},
     "output_type": "execute_result"
    }
   ],
   "source": [
    "tensorScaler"
   ],
   "metadata": {
    "collapsed": false,
    "ExecuteTime": {
     "end_time": "2024-07-13T20:00:53.464557Z",
     "start_time": "2024-07-13T20:00:53.456132Z"
    }
   },
   "id": "9ccbcbc16bf5230c",
   "execution_count": 13
  },
  {
   "cell_type": "code",
   "outputs": [
    {
     "data": {
      "text/plain": "2"
     },
     "execution_count": 14,
     "metadata": {},
     "output_type": "execute_result"
    }
   ],
   "source": [
    " len(scaledX)"
   ],
   "metadata": {
    "collapsed": false,
    "ExecuteTime": {
     "end_time": "2024-07-13T20:02:47.788927Z",
     "start_time": "2024-07-13T20:02:47.782173Z"
    }
   },
   "id": "c239d5dfdbb4d34a",
   "execution_count": 14
  },
  {
   "cell_type": "code",
   "outputs": [
    {
     "data": {
      "text/plain": "torch.Size([2, 3, 5, 2])"
     },
     "execution_count": 16,
     "metadata": {},
     "output_type": "execute_result"
    }
   ],
   "source": [
    "scaledX.shape"
   ],
   "metadata": {
    "collapsed": false,
    "ExecuteTime": {
     "end_time": "2024-07-13T20:03:28.687623Z",
     "start_time": "2024-07-13T20:03:28.681293Z"
    }
   },
   "id": "19145f09837c8ace",
   "execution_count": 16
  },
  {
   "cell_type": "code",
   "outputs": [
    {
     "data": {
      "text/plain": "tensor([[[-5.7449e-02,  1.1273e-01, -5.0339e-01, -5.0666e-01, -1.1839e+00,\n          -6.1323e-01],\n         [-1.1019e+00, -9.3194e-01,  8.0318e-01,  9.5669e-04,  5.2625e-01,\n           1.2777e+00],\n         [ 1.4643e-01,  1.9653e-02, -2.4861e-01,  8.9389e-01,  6.3003e-02,\n           2.8005e-01],\n         [-7.5073e-01, -2.1118e-01, -4.0801e-01, -2.3930e-01,  6.9129e-02,\n          -2.8407e-01],\n         [-2.0881e-01,  1.5615e+00,  7.6224e-02, -9.0168e-01, -8.0034e-01,\n           3.3752e-01]],\n\n        [[ 7.8485e-01, -6.2320e-01,  1.0279e+00, -5.0961e-02,  1.5569e+00,\n          -2.5778e-01],\n         [-7.2965e-01,  1.9825e-01,  1.3584e-01,  1.8260e+00,  9.9079e-01,\n           3.4321e-01],\n         [ 1.1563e-01, -6.0578e-02, -1.0557e+00, -7.5676e-01, -8.9520e-01,\n          -3.0323e-01],\n         [-3.9833e-01,  1.1552e-01,  1.9142e-01,  6.6616e-01,  1.1142e-01,\n          -4.8894e-01],\n         [-7.9824e-02,  1.3079e-01, -7.3813e-02,  2.4665e-01,  5.5730e-01,\n           3.7348e-01]]])"
     },
     "execution_count": 17,
     "metadata": {},
     "output_type": "execute_result"
    }
   ],
   "source": [
    "scaledX.reshape((2,5,6))"
   ],
   "metadata": {
    "collapsed": false,
    "ExecuteTime": {
     "end_time": "2024-07-13T20:04:14.492545Z",
     "start_time": "2024-07-13T20:04:14.484314Z"
    }
   },
   "id": "7b8929cc453a65ec",
   "execution_count": 17
  },
  {
   "cell_type": "code",
   "outputs": [
    {
     "data": {
      "text/plain": "tensor([[-5.7449e-02,  1.1273e-01, -5.0339e-01, -5.0666e-01, -1.1839e+00,\n         -6.1323e-01],\n        [-1.1019e+00, -9.3194e-01,  8.0318e-01,  9.5669e-04,  5.2625e-01,\n          1.2777e+00],\n        [ 1.4643e-01,  1.9653e-02, -2.4861e-01,  8.9389e-01,  6.3003e-02,\n          2.8005e-01],\n        [-7.5073e-01, -2.1118e-01, -4.0801e-01, -2.3930e-01,  6.9129e-02,\n         -2.8407e-01],\n        [-2.0881e-01,  1.5615e+00,  7.6224e-02, -9.0168e-01, -8.0034e-01,\n          3.3752e-01],\n        [ 7.8485e-01, -6.2320e-01,  1.0279e+00, -5.0961e-02,  1.5569e+00,\n         -2.5778e-01],\n        [-7.2965e-01,  1.9825e-01,  1.3584e-01,  1.8260e+00,  9.9079e-01,\n          3.4321e-01],\n        [ 1.1563e-01, -6.0578e-02, -1.0557e+00, -7.5676e-01, -8.9520e-01,\n         -3.0323e-01],\n        [-3.9833e-01,  1.1552e-01,  1.9142e-01,  6.6616e-01,  1.1142e-01,\n         -4.8894e-01],\n        [-7.9824e-02,  1.3079e-01, -7.3813e-02,  2.4665e-01,  5.5730e-01,\n          3.7348e-01]])"
     },
     "execution_count": 18,
     "metadata": {},
     "output_type": "execute_result"
    }
   ],
   "source": [
    "scaledX.reshape((10,6))"
   ],
   "metadata": {
    "collapsed": false,
    "ExecuteTime": {
     "end_time": "2024-07-13T20:04:49.104410Z",
     "start_time": "2024-07-13T20:04:49.093950Z"
    }
   },
   "id": "df01d4f07d6aa2e7",
   "execution_count": 18
  },
  {
   "cell_type": "code",
   "outputs": [
    {
     "data": {
      "text/plain": "tensor([[[[-5.7449e-02, -5.0339e-01, -1.1839e+00, -1.1019e+00,  8.0318e-01],\n          [ 1.1273e-01, -5.0666e-01, -6.1323e-01, -9.3194e-01,  9.5669e-04]],\n\n         [[ 5.2625e-01,  1.4643e-01, -2.4861e-01,  6.3003e-02, -7.5073e-01],\n          [ 1.2777e+00,  1.9653e-02,  8.9389e-01,  2.8005e-01, -2.1118e-01]],\n\n         [[-4.0801e-01,  6.9129e-02, -2.0881e-01,  7.6224e-02, -8.0034e-01],\n          [-2.3930e-01, -2.8407e-01,  1.5615e+00, -9.0168e-01,  3.3752e-01]]],\n\n\n        [[[ 7.8485e-01,  1.0279e+00,  1.5569e+00, -7.2965e-01,  1.3584e-01],\n          [-6.2320e-01, -5.0961e-02, -2.5778e-01,  1.9825e-01,  1.8260e+00]],\n\n         [[ 9.9079e-01,  1.1563e-01, -1.0557e+00, -8.9520e-01, -3.9833e-01],\n          [ 3.4321e-01, -6.0578e-02, -7.5676e-01, -3.0323e-01,  1.1552e-01]],\n\n         [[ 1.9142e-01,  1.1142e-01, -7.9824e-02, -7.3813e-02,  5.5730e-01],\n          [ 6.6616e-01, -4.8894e-01,  1.3079e-01,  2.4665e-01,  3.7348e-01]]]])"
     },
     "execution_count": 20,
     "metadata": {},
     "output_type": "execute_result"
    }
   ],
   "source": [
    "scaledX.mT"
   ],
   "metadata": {
    "collapsed": false,
    "ExecuteTime": {
     "end_time": "2024-07-13T20:05:40.618372Z",
     "start_time": "2024-07-13T20:05:40.611225Z"
    }
   },
   "id": "350e31e760ea8643",
   "execution_count": 20
  },
  {
   "cell_type": "code",
   "outputs": [],
   "source": [
    "cloned = scaledX.clone()"
   ],
   "metadata": {
    "collapsed": false,
    "ExecuteTime": {
     "end_time": "2024-07-13T20:06:23.672608Z",
     "start_time": "2024-07-13T20:06:23.668908Z"
    }
   },
   "id": "166cad9710176485",
   "execution_count": 21
  },
  {
   "cell_type": "code",
   "outputs": [],
   "source": [
    "scaledX += cloned"
   ],
   "metadata": {
    "collapsed": false,
    "ExecuteTime": {
     "end_time": "2024-07-13T20:06:42.186977Z",
     "start_time": "2024-07-13T20:06:42.183072Z"
    }
   },
   "id": "e25f9df2aa4e3cad",
   "execution_count": 22
  },
  {
   "cell_type": "code",
   "outputs": [
    {
     "data": {
      "text/plain": "tensor([[[[-1.1490e-01,  2.2546e-01],\n          [-1.0068e+00, -1.0133e+00],\n          [-2.3678e+00, -1.2265e+00],\n          [-2.2038e+00, -1.8639e+00],\n          [ 1.6064e+00,  1.9134e-03]],\n\n         [[ 1.0525e+00,  2.5553e+00],\n          [ 2.9287e-01,  3.9306e-02],\n          [-4.9722e-01,  1.7878e+00],\n          [ 1.2601e-01,  5.6011e-01],\n          [-1.5015e+00, -4.2236e-01]],\n\n         [[-8.1603e-01, -4.7860e-01],\n          [ 1.3826e-01, -5.6815e-01],\n          [-4.1763e-01,  3.1231e+00],\n          [ 1.5245e-01, -1.8034e+00],\n          [-1.6007e+00,  6.7504e-01]]],\n\n\n        [[[ 1.5697e+00, -1.2464e+00],\n          [ 2.0558e+00, -1.0192e-01],\n          [ 3.1137e+00, -5.1556e-01],\n          [-1.4593e+00,  3.9650e-01],\n          [ 2.7168e-01,  3.6521e+00]],\n\n         [[ 1.9816e+00,  6.8641e-01],\n          [ 2.3126e-01, -1.2116e-01],\n          [-2.1114e+00, -1.5135e+00],\n          [-1.7904e+00, -6.0646e-01],\n          [-7.9666e-01,  2.3104e-01]],\n\n         [[ 3.8284e-01,  1.3323e+00],\n          [ 2.2284e-01, -9.7788e-01],\n          [-1.5965e-01,  2.6158e-01],\n          [-1.4763e-01,  4.9330e-01],\n          [ 1.1146e+00,  7.4696e-01]]]])"
     },
     "execution_count": 26,
     "metadata": {},
     "output_type": "execute_result"
    }
   ],
   "source": [
    "scaledX"
   ],
   "metadata": {
    "collapsed": false,
    "ExecuteTime": {
     "end_time": "2024-07-13T20:07:13.843374Z",
     "start_time": "2024-07-13T20:07:13.833833Z"
    }
   },
   "id": "ce5ab49e6787d6e1",
   "execution_count": 26
  },
  {
   "cell_type": "code",
   "outputs": [
    {
     "data": {
      "text/plain": "tensor([[[[-1.1490e-01,  2.2546e-01],\n          [-1.0068e+00, -1.0133e+00],\n          [-2.3678e+00, -1.2265e+00]],\n\n         [[-2.2038e+00, -1.8639e+00],\n          [ 1.6064e+00,  1.9134e-03],\n          [ 1.0525e+00,  2.5553e+00]],\n\n         [[ 2.9287e-01,  3.9306e-02],\n          [-4.9722e-01,  1.7878e+00],\n          [ 1.2601e-01,  5.6011e-01]],\n\n         [[-1.5015e+00, -4.2236e-01],\n          [-8.1603e-01, -4.7860e-01],\n          [ 1.3826e-01, -5.6815e-01]],\n\n         [[-4.1763e-01,  3.1231e+00],\n          [ 1.5245e-01, -1.8034e+00],\n          [-1.6007e+00,  6.7504e-01]]],\n\n\n        [[[ 1.5697e+00, -1.2464e+00],\n          [ 2.0558e+00, -1.0192e-01],\n          [ 3.1137e+00, -5.1556e-01]],\n\n         [[-1.4593e+00,  3.9650e-01],\n          [ 2.7168e-01,  3.6521e+00],\n          [ 1.9816e+00,  6.8641e-01]],\n\n         [[ 2.3126e-01, -1.2116e-01],\n          [-2.1114e+00, -1.5135e+00],\n          [-1.7904e+00, -6.0646e-01]],\n\n         [[-7.9666e-01,  2.3104e-01],\n          [ 3.8284e-01,  1.3323e+00],\n          [ 2.2284e-01, -9.7788e-01]],\n\n         [[-1.5965e-01,  2.6158e-01],\n          [-1.4763e-01,  4.9330e-01],\n          [ 1.1146e+00,  7.4696e-01]]]])"
     },
     "execution_count": 28,
     "metadata": {},
     "output_type": "execute_result"
    }
   ],
   "source": [
    "scaledX.reshape((2,5,3,2))"
   ],
   "metadata": {
    "collapsed": false,
    "ExecuteTime": {
     "end_time": "2024-07-13T20:07:46.105193Z",
     "start_time": "2024-07-13T20:07:46.090256Z"
    }
   },
   "id": "e479cd615e09d48d",
   "execution_count": 28
  },
  {
   "cell_type": "code",
   "outputs": [
    {
     "data": {
      "text/plain": "tensor([[[[6.6007e-03, 2.5416e-02],\n          [5.0680e-01, 5.1341e-01],\n          [2.8033e+00, 7.5211e-01],\n          [2.4284e+00, 1.7370e+00],\n          [1.2902e+00, 1.8305e-06]],\n\n         [[5.5389e-01, 3.2649e+00],\n          [4.2886e-02, 7.7247e-04],\n          [1.2361e-01, 1.5981e+00],\n          [7.9387e-03, 1.5686e-01],\n          [1.1272e+00, 8.9193e-02]],\n\n         [[3.3295e-01, 1.1453e-01],\n          [9.5577e-03, 1.6140e-01],\n          [8.7206e-02, 4.8768e+00],\n          [1.1620e-02, 1.6261e+00],\n          [1.2811e+00, 2.2784e-01]]],\n\n\n        [[[1.2320e+00, 7.7675e-01],\n          [2.1132e+00, 5.1940e-03],\n          [4.8476e+00, 1.3290e-01],\n          [1.0648e+00, 7.8605e-02],\n          [3.6906e-02, 6.6688e+00]],\n\n         [[1.9633e+00, 2.3558e-01],\n          [2.6740e-02, 7.3394e-03],\n          [2.2290e+00, 1.1454e+00],\n          [1.6028e+00, 1.8390e-01],\n          [3.1733e-01, 2.6690e-02]],\n\n         [[7.3284e-02, 8.8753e-01],\n          [2.4829e-02, 4.7813e-01],\n          [1.2744e-02, 3.4211e-02],\n          [1.0897e-02, 1.2167e-01],\n          [6.2118e-01, 2.7897e-01]]]])"
     },
     "execution_count": 29,
     "metadata": {},
     "output_type": "execute_result"
    }
   ],
   "source": [
    "scaledX * cloned"
   ],
   "metadata": {
    "collapsed": false,
    "ExecuteTime": {
     "end_time": "2024-07-13T20:08:09.825948Z",
     "start_time": "2024-07-13T20:08:09.814920Z"
    }
   },
   "id": "248bf162ac82736c",
   "execution_count": 29
  },
  {
   "cell_type": "code",
   "outputs": [
    {
     "data": {
      "text/plain": "tensor([[[[1.3201e-02, 5.0832e-02],\n          [1.0136e+00, 1.0268e+00],\n          [5.6067e+00, 1.5042e+00],\n          [4.8568e+00, 3.4741e+00],\n          [2.5804e+00, 3.6610e-06]],\n\n         [[1.1078e+00, 6.5298e+00],\n          [8.5771e-02, 1.5449e-03],\n          [2.4723e-01, 3.1962e+00],\n          [1.5877e-02, 3.1372e-01],\n          [2.2544e+00, 1.7839e-01]],\n\n         [[6.6590e-01, 2.2905e-01],\n          [1.9115e-02, 3.2279e-01],\n          [1.7441e-01, 9.7536e+00],\n          [2.3241e-02, 3.2521e+00],\n          [2.5622e+00, 4.5568e-01]]],\n\n\n        [[[2.4640e+00, 1.5535e+00],\n          [4.2264e+00, 1.0388e-02],\n          [9.6952e+00, 2.6580e-01],\n          [2.1296e+00, 1.5721e-01],\n          [7.3811e-02, 1.3338e+01]],\n\n         [[3.9267e+00, 4.7116e-01],\n          [5.3479e-02, 1.4679e-02],\n          [4.4580e+00, 2.2907e+00],\n          [3.2055e+00, 3.6779e-01],\n          [6.3467e-01, 5.3380e-02]],\n\n         [[1.4657e-01, 1.7751e+00],\n          [4.9658e-02, 9.5626e-01],\n          [2.5487e-02, 6.8422e-02],\n          [2.1794e-02, 2.4334e-01],\n          [1.2424e+00, 5.5795e-01]]]])"
     },
     "execution_count": 30,
     "metadata": {},
     "output_type": "execute_result"
    }
   ],
   "source": [
    "scaledX * scaledX"
   ],
   "metadata": {
    "collapsed": false,
    "ExecuteTime": {
     "end_time": "2024-07-13T20:08:23.037768Z",
     "start_time": "2024-07-13T20:08:23.030781Z"
    }
   },
   "id": "fd51af2b379ef5c3",
   "execution_count": 30
  },
  {
   "cell_type": "code",
   "outputs": [
    {
     "data": {
      "text/plain": "tensor(1.6303)"
     },
     "execution_count": 31,
     "metadata": {},
     "output_type": "execute_result"
    }
   ],
   "source": [
    "scaledX.sum()"
   ],
   "metadata": {
    "collapsed": false,
    "ExecuteTime": {
     "end_time": "2024-07-13T20:08:52.804224Z",
     "start_time": "2024-07-13T20:08:52.794891Z"
    }
   },
   "id": "c407e266262e6d36",
   "execution_count": 31
  },
  {
   "cell_type": "code",
   "outputs": [
    {
     "data": {
      "text/plain": "tensor([[[ 1.4548, -1.0209],\n         [ 1.0491, -1.1152],\n         [ 0.7459, -1.7420],\n         [-3.6631, -1.4674],\n         [ 1.8781,  3.6540]],\n\n        [[ 3.0341,  3.2417],\n         [ 0.5241, -0.0819],\n         [-2.6086,  0.2743],\n         [-1.6644, -0.0463],\n         [-2.2981, -0.1913]],\n\n        [[-0.4332,  0.8537],\n         [ 0.3611, -1.5460],\n         [-0.5773,  3.3847],\n         [ 0.0048, -1.3101],\n         [-0.4861,  1.4220]]])"
     },
     "execution_count": 32,
     "metadata": {},
     "output_type": "execute_result"
    }
   ],
   "source": [
    "scaledX.sum(axis=0)"
   ],
   "metadata": {
    "collapsed": false,
    "ExecuteTime": {
     "end_time": "2024-07-13T20:09:15.914022Z",
     "start_time": "2024-07-13T20:09:15.902004Z"
    }
   },
   "id": "ba63933fcfc3a40e",
   "execution_count": 32
  },
  {
   "cell_type": "code",
   "outputs": [
    {
     "data": {
      "text/plain": "tensor(0.0272)"
     },
     "execution_count": 33,
     "metadata": {},
     "output_type": "execute_result"
    }
   ],
   "source": [
    "scaledX.mean()"
   ],
   "metadata": {
    "collapsed": false,
    "ExecuteTime": {
     "end_time": "2024-07-13T20:09:44.412456Z",
     "start_time": "2024-07-13T20:09:44.400055Z"
    }
   },
   "id": "197edf01cc235965",
   "execution_count": 33
  },
  {
   "cell_type": "code",
   "outputs": [],
   "source": [
    "scaledX = scaledX.sum(axis=1, keepdims=True)"
   ],
   "metadata": {
    "collapsed": false,
    "ExecuteTime": {
     "end_time": "2024-07-13T20:10:42.379607Z",
     "start_time": "2024-07-13T20:10:42.370239Z"
    }
   },
   "id": "96ffde15371048f0",
   "execution_count": 36
  },
  {
   "cell_type": "code",
   "outputs": [
    {
     "data": {
      "text/plain": "tensor(0.0815)"
     },
     "execution_count": 37,
     "metadata": {},
     "output_type": "execute_result"
    }
   ],
   "source": [
    "scaledX.mean()"
   ],
   "metadata": {
    "collapsed": false,
    "ExecuteTime": {
     "end_time": "2024-07-13T20:10:44.249747Z",
     "start_time": "2024-07-13T20:10:44.240274Z"
    }
   },
   "id": "864ec3af88c9262a",
   "execution_count": 37
  },
  {
   "cell_type": "code",
   "outputs": [],
   "source": [
    "scaledX = scaledX.cumsum(axis = 2)"
   ],
   "metadata": {
    "collapsed": false,
    "ExecuteTime": {
     "end_time": "2024-07-13T20:11:32.826419Z",
     "start_time": "2024-07-13T20:11:32.821398Z"
    }
   },
   "id": "ce13da46fbbb0309",
   "execution_count": 41
  },
  {
   "cell_type": "code",
   "outputs": [
    {
     "data": {
      "text/plain": "tensor(0.9266)"
     },
     "execution_count": 42,
     "metadata": {},
     "output_type": "execute_result"
    }
   ],
   "source": [
    "scaledX.mean()"
   ],
   "metadata": {
    "collapsed": false,
    "ExecuteTime": {
     "end_time": "2024-07-13T20:11:44.319493Z",
     "start_time": "2024-07-13T20:11:44.308724Z"
    }
   },
   "id": "39a5fc2450e4e78f",
   "execution_count": 42
  },
  {
   "cell_type": "code",
   "outputs": [],
   "source": [
    "scaledX = scaledX.reshape((5,4))"
   ],
   "metadata": {
    "collapsed": false,
    "ExecuteTime": {
     "end_time": "2024-07-13T20:14:04.598395Z",
     "start_time": "2024-07-13T20:14:04.593499Z"
    }
   },
   "id": "f3c9d2ccbb0b8b93",
   "execution_count": 48
  },
  {
   "cell_type": "code",
   "outputs": [],
   "source": [
    "Y = torch.randn(4,5)"
   ],
   "metadata": {
    "collapsed": false,
    "ExecuteTime": {
     "end_time": "2024-07-13T20:12:41.438764Z",
     "start_time": "2024-07-13T20:12:41.433179Z"
    }
   },
   "id": "d7ce6efb248c2f38",
   "execution_count": 45
  },
  {
   "cell_type": "code",
   "outputs": [
    {
     "data": {
      "text/plain": "tensor([[-1.0348,  0.0772, -0.4825, -0.7511,  1.0009],\n        [-1.3462, -0.0985, -0.9835,  0.2232,  2.3964],\n        [ 0.8059,  1.3145,  0.4161, -0.4807,  0.6769],\n        [-0.1853,  1.8491,  0.9222,  1.1793, -0.6455]])"
     },
     "execution_count": 46,
     "metadata": {},
     "output_type": "execute_result"
    }
   ],
   "source": [
    "Y"
   ],
   "metadata": {
    "collapsed": false,
    "ExecuteTime": {
     "end_time": "2024-07-13T20:12:50.839869Z",
     "start_time": "2024-07-13T20:12:50.830864Z"
    }
   },
   "id": "80cf7a7db2f3c19e",
   "execution_count": 46
  },
  {
   "cell_type": "code",
   "outputs": [
    {
     "ename": "RuntimeError",
     "evalue": "1D tensors expected, but got 2D and 2D tensors",
     "output_type": "error",
     "traceback": [
      "\u001B[0;31m---------------------------------------------------------------------------\u001B[0m",
      "\u001B[0;31mRuntimeError\u001B[0m                              Traceback (most recent call last)",
      "Cell \u001B[0;32mIn[49], line 1\u001B[0m\n\u001B[0;32m----> 1\u001B[0m dotXY \u001B[38;5;241m=\u001B[39m \u001B[43mtorch\u001B[49m\u001B[38;5;241;43m.\u001B[39;49m\u001B[43mdot\u001B[49m\u001B[43m(\u001B[49m\u001B[43mscaledX\u001B[49m\u001B[43m,\u001B[49m\u001B[43mY\u001B[49m\u001B[43m)\u001B[49m\n",
      "\u001B[0;31mRuntimeError\u001B[0m: 1D tensors expected, but got 2D and 2D tensors"
     ]
    }
   ],
   "source": [
    "dotXY = torch.dot(scaledX,Y)"
   ],
   "metadata": {
    "collapsed": false,
    "ExecuteTime": {
     "end_time": "2024-07-13T20:14:08.546022Z",
     "start_time": "2024-07-13T20:14:08.521399Z"
    }
   },
   "id": "7361b2db92862e2d",
   "execution_count": 49
  },
  {
   "cell_type": "markdown",
   "source": [
    "Dot only works for 1D tensors"
   ],
   "metadata": {
    "collapsed": false
   },
   "id": "18ef117530867e4"
  },
  {
   "cell_type": "code",
   "outputs": [],
   "source": [
    "a = torch.tensor([1, 4, 65, 34])\n",
    "b = torch.tensor([2 ,5, 1, 321])\n",
    "\n",
    "dotProd = torch.dot(a,b)"
   ],
   "metadata": {
    "collapsed": false,
    "ExecuteTime": {
     "end_time": "2024-07-13T20:15:21.539685Z",
     "start_time": "2024-07-13T20:15:21.533777Z"
    }
   },
   "id": "8a274e706e122662",
   "execution_count": 51
  },
  {
   "cell_type": "code",
   "outputs": [
    {
     "data": {
      "text/plain": "tensor(11001)"
     },
     "execution_count": 52,
     "metadata": {},
     "output_type": "execute_result"
    }
   ],
   "source": [
    "dotProd"
   ],
   "metadata": {
    "collapsed": false,
    "ExecuteTime": {
     "end_time": "2024-07-13T20:15:28.498683Z",
     "start_time": "2024-07-13T20:15:28.493813Z"
    }
   },
   "id": "4ebacf51e2739805",
   "execution_count": 52
  },
  {
   "cell_type": "code",
   "outputs": [
    {
     "data": {
      "text/plain": "tensor([[ -3.7319,   0.5912,  -1.8110,   1.5371,   4.8408],\n        [ -6.9273,  -5.6964,  -3.6909,   8.0978,   2.2149],\n        [  8.2915,   5.8903,   4.2372,   4.7511,  -1.1852],\n        [  0.1878,   6.0575,  -1.6812, -11.0287,  11.7724],\n        [  1.6565,  11.4010,   4.3743,  -2.2972,   0.5867]])"
     },
     "execution_count": 53,
     "metadata": {},
     "output_type": "execute_result"
    }
   ],
   "source": [
    "scaledX@Y"
   ],
   "metadata": {
    "collapsed": false,
    "ExecuteTime": {
     "end_time": "2024-07-13T20:15:57.635756Z",
     "start_time": "2024-07-13T20:15:57.628423Z"
    }
   },
   "id": "f7cce19df7e77690",
   "execution_count": 53
  },
  {
   "cell_type": "code",
   "outputs": [
    {
     "data": {
      "text/plain": "tensor(17.0108)"
     },
     "execution_count": 62,
     "metadata": {},
     "output_type": "execute_result"
    }
   ],
   "source": [
    "torch.norm(scaledX)"
   ],
   "metadata": {
    "collapsed": false,
    "ExecuteTime": {
     "end_time": "2024-07-13T20:18:32.253658Z",
     "start_time": "2024-07-13T20:18:32.246237Z"
    }
   },
   "id": "8f9d714efedb64f",
   "execution_count": 62
  },
  {
   "cell_type": "code",
   "outputs": [
    {
     "data": {
      "text/plain": "tensor(61.6288)"
     },
     "execution_count": 63,
     "metadata": {},
     "output_type": "execute_result"
    }
   ],
   "source": [
    "torch.abs(scaledX).sum()"
   ],
   "metadata": {
    "collapsed": false,
    "ExecuteTime": {
     "end_time": "2024-07-13T20:18:58.227412Z",
     "start_time": "2024-07-13T20:18:58.222037Z"
    }
   },
   "id": "4926e08666abaccd",
   "execution_count": 63
  },
  {
   "cell_type": "code",
   "outputs": [],
   "source": [],
   "metadata": {
    "collapsed": false
   },
   "id": "ab76266aa7bf8ead"
  }
 ],
 "metadata": {
  "kernelspec": {
   "display_name": "Python 3",
   "language": "python",
   "name": "python3"
  },
  "language_info": {
   "codemirror_mode": {
    "name": "ipython",
    "version": 2
   },
   "file_extension": ".py",
   "mimetype": "text/x-python",
   "name": "python",
   "nbconvert_exporter": "python",
   "pygments_lexer": "ipython2",
   "version": "2.7.6"
  }
 },
 "nbformat": 4,
 "nbformat_minor": 5
}
