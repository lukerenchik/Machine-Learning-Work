{
 "cells": [
  {
   "cell_type": "code",
   "execution_count": 3,
   "id": "initial_id",
   "metadata": {
    "collapsed": true,
    "ExecuteTime": {
     "end_time": "2024-07-13T16:25:04.756208Z",
     "start_time": "2024-07-13T16:25:03.808433Z"
    }
   },
   "outputs": [
    {
     "name": "stdout",
     "output_type": "stream",
     "text": [
      "{'uci_id': 467, 'name': 'Student Academics Performance', 'repository_url': 'https://archive.ics.uci.edu/dataset/467/student+academics+performance', 'data_url': 'https://archive.ics.uci.edu/static/public/467/data.csv', 'abstract': 'The dataset tried to find the end semester percentage prediction based on different social, economic and academic attributes. ', 'area': 'Computer Science', 'tasks': ['Classification'], 'characteristics': ['Multivariate'], 'num_instances': 300, 'num_features': 22, 'feature_types': [], 'demographics': [], 'target_col': None, 'index_col': None, 'has_missing_values': 'no', 'missing_values_symbol': None, 'year_of_dataset_creation': 2018, 'last_updated': 'Fri Mar 29 2024', 'dataset_doi': '10.24432/C50W30', 'creators': ['Sadiq Hussain'], 'intro_paper': {'title': 'Educational Data Mining and Analysis of Students’ Academic Performance Using WEKA', 'authors': 'Sadiq Hussain, N. A. Dahan, F. Ba-Alwi, Najoua Ribata', 'published_in': ' Indonesian Journal of Electrical Engineering and Computer Science', 'year': 2018, 'url': 'https://www.semanticscholar.org/paper/Educational-Data-Mining-and-Analysis-of-Students%E2%80%99-Hussain-Dahan/7cf8a7ad1fffb3b4ce3f5f0715f73e0f22e4758a', 'doi': None}, 'additional_info': {'summary': 'Student Academic Performance Dataset', 'purpose': None, 'funded_by': None, 'instances_represent': None, 'recommended_data_splits': None, 'sensitive_data': None, 'preprocessing_description': None, 'variable_info': '@ATTRIBUTE ge  {M,F}\\r\\n@ATTRIBUTE cst {G,ST,SC,OBC,MOBC}\\r\\n@ATTRIBUTE tnp {Best,Vg,Good,Pass,Fail}\\r\\n@ATTRIBUTE twp {Best,Vg,Good,Pass,Fail}\\r\\n@ATTRIBUTE iap {Best,Vg,Good,Pass,Fail}\\r\\n@ATTRIBUTE esp {Best,Vg,Good,Pass,Fail}\\r\\n@ATTRIBUTE arr {Y,N}\\r\\n@ATTRIBUTE ms  {Married,Unmarried}\\r\\n@ATTRIBUTE ls  {T,V}\\r\\n@ATTRIBUTE as  {Free,Paid}\\r\\n@ATTRIBUTE fmi {Vh,High,Am,Medium,Low}\\r\\n@ATTRIBUTE fs  {Large,Average,Small}\\r\\n@ATTRIBUTE fq  {Il,Um,10,12,Degree,Pg}\\r\\n@ATTRIBUTE mq  {Il,Um,10,12,Degree,Pg}\\r\\n@ATTRIBUTE fo  {Service,Business,Retired,Farmer,Others}\\r\\n@ATTRIBUTE mo  {Service,Business,Retired,Housewife,Others}\\r\\n@ATTRIBUTE nf  {Large,Average,Small}\\r\\n@ATTRIBUTE sh  {Good,Average,Poor}\\r\\n@ATTRIBUTE ss  {Govt,Private}\\r\\n@ATTRIBUTE me  {Eng,Asm,Hin,Ben}\\r\\n@ATTRIBUTE tt  {Large,Average,Small}\\r\\n@ATTRIBUTE atd {Good,Average,Poor}', 'citation': None}}\n",
      "   name     role         type demographic description units missing_values\n",
      "0    ge  Feature  Categorical        None        None  None             no\n",
      "1   cst  Feature  Categorical        None        None  None             no\n",
      "2   tnp  Feature  Categorical        None        None  None             no\n",
      "3   twp  Feature  Categorical        None        None  None             no\n",
      "4   iap  Feature  Categorical        None        None  None             no\n",
      "5   esp  Feature  Categorical        None        None  None             no\n",
      "6   arr  Feature  Categorical        None        None  None             no\n",
      "7    ms  Feature  Categorical        None        None  None             no\n",
      "8    ls  Feature  Categorical        None        None  None             no\n",
      "9    as  Feature  Categorical        None        None  None             no\n",
      "10  fmi  Feature  Categorical        None        None  None             no\n",
      "11   fs  Feature  Categorical        None        None  None             no\n",
      "12   fq  Feature  Categorical        None        None  None             no\n",
      "13   mq  Feature  Categorical        None        None  None             no\n",
      "14   fo  Feature  Categorical        None        None  None             no\n",
      "15   mo  Feature  Categorical        None        None  None             no\n",
      "16   nf  Feature  Categorical        None        None  None             no\n",
      "17   sh  Feature  Categorical        None        None  None             no\n",
      "18   ss  Feature  Categorical        None        None  None             no\n",
      "19   me  Feature  Categorical        None        None  None             no\n",
      "20   tt  Feature  Categorical        None        None  None             no\n",
      "21  atd  Feature  Categorical        None        None  None             no\n"
     ]
    }
   ],
   "source": [
    "from ucimlrepo import fetch_ucirepo \n",
    "  \n",
    "# fetch dataset \n",
    "student_academics_performance = fetch_ucirepo(id=467) \n",
    "  \n",
    "# data (as pandas dataframes) \n",
    "X = student_academics_performance.data.features \n",
    "y = student_academics_performance.data.targets \n",
    "  \n",
    "# metadata \n",
    "print(student_academics_performance.metadata) \n",
    "  \n",
    "# variable information \n",
    "print(student_academics_performance.variables) \n"
   ]
  },
  {
   "cell_type": "code",
   "outputs": [],
   "source": [],
   "metadata": {
    "collapsed": false
   },
   "id": "8acd0ac034a4c9d4"
  },
  {
   "cell_type": "code",
   "outputs": [],
   "source": [],
   "metadata": {
    "collapsed": false
   },
   "id": "4f11384e211a0e89"
  }
 ],
 "metadata": {
  "kernelspec": {
   "display_name": "Python 3",
   "language": "python",
   "name": "python3"
  },
  "language_info": {
   "codemirror_mode": {
    "name": "ipython",
    "version": 2
   },
   "file_extension": ".py",
   "mimetype": "text/x-python",
   "name": "python",
   "nbconvert_exporter": "python",
   "pygments_lexer": "ipython2",
   "version": "2.7.6"
  }
 },
 "nbformat": 4,
 "nbformat_minor": 5
}
